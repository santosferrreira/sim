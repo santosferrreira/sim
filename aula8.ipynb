{
 "cells": [
  {
   "cell_type": "code",
   "execution_count": null,
   "metadata": {},
   "outputs": [],
   "source": [
    "\n",
    "<!DOCTYPE html>\n",
    "<html lang=\"pt-br\">\n",
    "<head>\n",
    "    <meta charset=\"UTF-8\">\n",
    "    <meta name=\"viewport\" content=\"width=device-width, initial-scale=1.0\">\n",
    "    <link rel=\"stylesheet\" href=\"assets/style.css\">\n",
    "    <title>Flashcard</title>\n",
    "</head>\n",
    "<body>\n",
    "    <main>\n",
    "        <section id=\"container\">\n",
    "            <!-- <article class=\"cartao\">\n",
    "                <div class=\"cartao__conteudo\">\n",
    "                    <h3>Programação</h3>\n",
    "                    <div class=\"cartao__conteudo__pergunta\">\n",
    "                        <p>O que é JavaScript?</p>\n",
    "                    </div>\n",
    "                    <div class=\"cartao__conteudo__resposta\">\n",
    "                        <p>O JavaScript é uma linguagem de programação</p>\n",
    "                    </div>\n",
    "                </div>\n",
    "            </article> -->\n",
    "        </section>\n",
    "    </main>\n",
    "    <footer>\n",
    "        <p>Projeto desenvolvido pela Alura, sem fins lucrativos</p>\n",
    "    </footer>\n",
    "    <script src=\"app.js\"></script>\n",
    "    <script src=\"perguntas.js\"></script>\n",
    "</body>\n",
    "</html>\n"
   ]
  }
 ],
 "metadata": {
  "language_info": {
   "name": "python"
  }
 },
 "nbformat": 4,
 "nbformat_minor": 2
}
